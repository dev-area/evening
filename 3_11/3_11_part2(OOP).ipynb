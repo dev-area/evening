{
 "cells": [
  {
   "cell_type": "code",
   "execution_count": 1,
   "metadata": {},
   "outputs": [],
   "source": [
    "\n",
    "\n",
    "\n",
    "class Student(object):\n",
    "    def __init__(self,sid = 0 , sname = \"anon\", scity = \"haifa\"):\n",
    "        if sid >= 0 :\n",
    "            self.__id = sid\n",
    "        else:\n",
    "            self.__id = 0\n",
    "        self.__name = sname\n",
    "        self.__city = scity\n",
    "        \n",
    "    def show(self):\n",
    "        print(\"Student id:\",self.__id , \" name:\", self.__name , \" city:\",self.__city)\n",
    "    \n",
    "    def setid(self,newid):\n",
    "        if newid > 0:\n",
    "            self.__id = newid\n",
    "            \n",
    "    def getid(self):\n",
    "        return self.__id\n",
    "    \n",
    "    def getcity(self):\n",
    "        return self.__city\n",
    "    \n",
    "    \n",
    "    \n",
    "    \n",
    "class StudentList(object):\n",
    "    \n",
    "    def __init__(self):\n",
    "        self.__slist = []\n",
    "        \n",
    "    def add(self, st):\n",
    "        self.__slist.append(st)\n",
    "        \n",
    "    def showall(self):\n",
    "        for i in self.__slist:\n",
    "            i.show()\n",
    "        \n",
    "    def getall(self):\n",
    "        for i in self.__slist:\n",
    "            yield i\n",
    "    \n",
    "    def getbycity(self,city):\n",
    "        for stud in self.__slist:\n",
    "            if stud.getcity() == city:\n",
    "                yield stud\n",
    "    \n",
    "    \n",
    "    \n",
    "s1 = Student(10,\"avi\",\"aco\")\n",
    "s2 = Student(20,\"rina\",\"haifa\")\n",
    "s3 = Student(30,\"dani\",\"aco\")\n",
    "s4 = Student(40,\"dina\",\"tel aviv\")\n",
    "s5 = Student(50,\"yossi\",\"aco\")\n",
    "s6 = Student(60,\"eli\",\"haifa\")\n",
    "\n",
    "slist = StudentList()\n",
    "slist.add(s1)\n",
    "slist.add(s2)\n",
    "slist.add(s3)\n",
    "slist.add(s4)\n",
    "slist.add(s5)\n",
    "slist.add(s6)\n",
    "\n",
    "\n",
    "\n",
    "\n",
    "\n",
    "\n",
    "\n",
    "\n",
    "\n",
    "\n",
    "\n",
    "\n",
    "\n",
    "\n",
    "\n"
   ]
  },
  {
   "cell_type": "code",
   "execution_count": 2,
   "metadata": {},
   "outputs": [
    {
     "name": "stdout",
     "output_type": "stream",
     "text": [
      "Student id: 20  name: rina  city: haifa\n",
      "Student id: 60  name: eli  city: haifa\n"
     ]
    }
   ],
   "source": [
    "for i in slist.getbycity('haifa'):\n",
    "    i.show()"
   ]
  },
  {
   "cell_type": "code",
   "execution_count": null,
   "metadata": {},
   "outputs": [],
   "source": []
  }
 ],
 "metadata": {
  "kernelspec": {
   "display_name": "Python 3",
   "language": "python",
   "name": "python3"
  },
  "language_info": {
   "codemirror_mode": {
    "name": "ipython",
    "version": 3
   },
   "file_extension": ".py",
   "mimetype": "text/x-python",
   "name": "python",
   "nbconvert_exporter": "python",
   "pygments_lexer": "ipython3",
   "version": "3.8.3"
  }
 },
 "nbformat": 4,
 "nbformat_minor": 4
}
