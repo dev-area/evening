{
 "cells": [
  {
   "cell_type": "code",
   "execution_count": 1,
   "metadata": {},
   "outputs": [],
   "source": [
    "def gen1(sev , lines):\n",
    "    \n",
    "    f = open('mylog')\n",
    "    while True:\n",
    "        count = 0\n",
    "        ls = []\n",
    "        while count < lines:\n",
    "            s = f.readline()\n",
    "            if len(s) == 0:\n",
    "                return None\n",
    "            if int(s[0]) == sev:\n",
    "                ls.append(s)\n",
    "                count+=1\n",
    "        yield ls\n",
    "            "
   ]
  },
  {
   "cell_type": "code",
   "execution_count": 3,
   "metadata": {},
   "outputs": [
    {
     "name": "stdout",
     "output_type": "stream",
     "text": [
      "['1-this is an example of a debugging message\\n', '1-debug msg\\n']\n",
      "['1-this is an example of a debugging message\\n', '1-debug msg\\n']\n"
     ]
    }
   ],
   "source": [
    "g = gen1(1,2)\n",
    "\n",
    "print(next(g))\n",
    "\n",
    "print(next(g))\n"
   ]
  },
  {
   "cell_type": "code",
   "execution_count": null,
   "metadata": {},
   "outputs": [],
   "source": []
  }
 ],
 "metadata": {
  "kernelspec": {
   "display_name": "Python 3",
   "language": "python",
   "name": "python3"
  },
  "language_info": {
   "codemirror_mode": {
    "name": "ipython",
    "version": 3
   },
   "file_extension": ".py",
   "mimetype": "text/x-python",
   "name": "python",
   "nbconvert_exporter": "python",
   "pygments_lexer": "ipython3",
   "version": "3.8.3"
  }
 },
 "nbformat": 4,
 "nbformat_minor": 4
}
